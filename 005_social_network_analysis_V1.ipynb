{
  "nbformat": 4,
  "nbformat_minor": 0,
  "metadata": {
    "colab": {
      "name": "005_social_network_analysis",
      "provenance": [],
      "collapsed_sections": [],
      "toc_visible": true,
      "include_colab_link": true
    },
    "kernelspec": {
      "name": "python3",
      "display_name": "Python 3"
    }
  },
  "cells": [
    {
      "cell_type": "markdown",
      "metadata": {
        "id": "view-in-github",
        "colab_type": "text"
      },
      "source": [
        "<a href=\"https://colab.research.google.com/github/andrybrew/pythondataanalytics/blob/master/005_social_network_analysis_V1.ipynb\" target=\"_parent\"><img src=\"https://colab.research.google.com/assets/colab-badge.svg\" alt=\"Open In Colab\"/></a>"
      ]
    },
    {
      "cell_type": "markdown",
      "metadata": {
        "id": "nvWS8sSBBo90",
        "colab_type": "text"
      },
      "source": [
        "# Social Network Analysis"
      ]
    },
    {
      "cell_type": "markdown",
      "metadata": {
        "id": "SiXXKe4BlzDu",
        "colab_type": "text"
      },
      "source": [
        "Social network analysis (SNA) is the process of investigating social structures through the use of networks and graph theory. It characterizes networked structures in terms of nodes (individual actors, people, or things within the network) and the ties, edges, or links (relationships or interactions) that connect them."
      ]
    },
    {
      "cell_type": "markdown",
      "metadata": {
        "id": "H1zzejL0Q56b",
        "colab_type": "text"
      },
      "source": [
        "In this prcatice we will use NetworkX. NetworkX is a Python package for the creation, manipulation, and study of the structure, dynamics, and functions of complex networks.\n",
        "You can see the full documentation of NetworkX  [HERE](https://networkx.github.io/documentation/stable/)\n"
      ]
    },
    {
      "cell_type": "code",
      "metadata": {
        "id": "xMj7KOGz2fo8",
        "colab_type": "code",
        "colab": {
          "base_uri": "https://localhost:8080/",
          "height": 1000
        },
        "outputId": "fb6e9203-4015-4cd1-e152-0dae9468d106"
      },
      "source": [
        "pip install nxviz"
      ],
      "execution_count": 1,
      "outputs": [
        {
          "output_type": "stream",
          "text": [
            "Collecting nxviz\n",
            "  Downloading https://files.pythonhosted.org/packages/d3/7b/b2b063f8c1e0e055036bc8c3e41b3ed1a45f02bb47f4db3aff1d630509e1/nxviz-0.6.2-py3-none-any.whl\n",
            "Collecting pandas==0.25.1\n",
            "\u001b[?25l  Downloading https://files.pythonhosted.org/packages/73/9b/52e228545d14f14bb2a1622e225f38463c8726645165e1cb7dde95bfe6d4/pandas-0.25.1-cp36-cp36m-manylinux1_x86_64.whl (10.5MB)\n",
            "\u001b[K     |████████████████████████████████| 10.5MB 7.5MB/s \n",
            "\u001b[?25hCollecting pytest==5.1.2\n",
            "\u001b[?25l  Downloading https://files.pythonhosted.org/packages/2f/19/d5f71752f71451ccc5ed5f6739e9da4a235f38783fdaf3629cae41b2ca7b/pytest-5.1.2-py3-none-any.whl (224kB)\n",
            "\u001b[K     |████████████████████████████████| 225kB 52.4MB/s \n",
            "\u001b[?25hCollecting more-itertools==7.2.0\n",
            "\u001b[?25l  Downloading https://files.pythonhosted.org/packages/45/dc/3241eef99eb45f1def35cf93af35d1cf9ef4c0991792583b8f33ea41b092/more_itertools-7.2.0-py3-none-any.whl (57kB)\n",
            "\u001b[K     |████████████████████████████████| 61kB 9.6MB/s \n",
            "\u001b[?25hCollecting numpy==1.17.1\n",
            "\u001b[?25l  Downloading https://files.pythonhosted.org/packages/75/92/57179ed45307ec6179e344231c47da7f3f3da9e2eee5c8ab506bd279ce4e/numpy-1.17.1-cp36-cp36m-manylinux1_x86_64.whl (20.4MB)\n",
            "\u001b[K     |████████████████████████████████| 20.4MB 1.4MB/s \n",
            "\u001b[?25hCollecting seaborn==0.9.0\n",
            "\u001b[?25l  Downloading https://files.pythonhosted.org/packages/a8/76/220ba4420459d9c4c9c9587c6ce607bf56c25b3d3d2de62056efe482dadc/seaborn-0.9.0-py3-none-any.whl (208kB)\n",
            "\u001b[K     |████████████████████████████████| 215kB 51.0MB/s \n",
            "\u001b[?25hCollecting palettable==3.1.1\n",
            "\u001b[?25l  Downloading https://files.pythonhosted.org/packages/56/8a/84537c0354f0d1f03bf644b71bf8e0a50db9c1294181905721a5f3efbf66/palettable-3.1.1-py2.py3-none-any.whl (77kB)\n",
            "\u001b[K     |████████████████████████████████| 81kB 11.5MB/s \n",
            "\u001b[?25hCollecting hypothesis==4.34.0\n",
            "\u001b[?25l  Downloading https://files.pythonhosted.org/packages/20/5b/229ae2b481c779988cd32fb8ff99d3633af963576964a5b8629bddde747d/hypothesis-4.34.0-py3-none-any.whl (269kB)\n",
            "\u001b[K     |████████████████████████████████| 276kB 50.5MB/s \n",
            "\u001b[?25hCollecting cryptography==2.7\n",
            "\u001b[?25l  Downloading https://files.pythonhosted.org/packages/97/18/c6557f63a6abde34707196fb2cad1c6dc0dbff25a200d5044922496668a4/cryptography-2.7-cp34-abi3-manylinux1_x86_64.whl (2.3MB)\n",
            "\u001b[K     |████████████████████████████████| 2.3MB 40.4MB/s \n",
            "\u001b[?25hCollecting sphinxcontrib-fulltoc==1.2.0\n",
            "  Downloading https://files.pythonhosted.org/packages/8e/a6/d1297db9b75650681e5429e92e13df139ee6b64303ff1b2eea4ebd32c0a9/sphinxcontrib-fulltoc-1.2.0.tar.gz\n",
            "Collecting setuptools==41.2.0\n",
            "\u001b[?25l  Downloading https://files.pythonhosted.org/packages/b2/86/095d2f7829badc207c893dd4ac767e871f6cd547145df797ea26baea4e2e/setuptools-41.2.0-py2.py3-none-any.whl (576kB)\n",
            "\u001b[K     |████████████████████████████████| 583kB 39.6MB/s \n",
            "\u001b[?25hCollecting networkx==2.3\n",
            "\u001b[?25l  Downloading https://files.pythonhosted.org/packages/85/08/f20aef11d4c343b557e5de6b9548761811eb16e438cee3d32b1c66c8566b/networkx-2.3.zip (1.7MB)\n",
            "\u001b[K     |████████████████████████████████| 1.8MB 35.0MB/s \n",
            "\u001b[?25hCollecting matplotlib==3.1.1\n",
            "\u001b[?25l  Downloading https://files.pythonhosted.org/packages/57/4f/dd381ecf6c6ab9bcdaa8ea912e866dedc6e696756156d8ecc087e20817e2/matplotlib-3.1.1-cp36-cp36m-manylinux1_x86_64.whl (13.1MB)\n",
            "\u001b[K     |████████████████████████████████| 13.1MB 38.6MB/s \n",
            "\u001b[?25hCollecting PyYAML==5.1.2\n",
            "\u001b[?25l  Downloading https://files.pythonhosted.org/packages/e3/e8/b3212641ee2718d556df0f23f78de8303f068fe29cdaa7a91018849582fe/PyYAML-5.1.2.tar.gz (265kB)\n",
            "\u001b[K     |████████████████████████████████| 266kB 61.4MB/s \n",
            "\u001b[?25hRequirement already satisfied: pytz>=2017.2 in /usr/local/lib/python3.6/dist-packages (from pandas==0.25.1->nxviz) (2018.9)\n",
            "Requirement already satisfied: python-dateutil>=2.6.1 in /usr/local/lib/python3.6/dist-packages (from pandas==0.25.1->nxviz) (2.6.1)\n",
            "Collecting pluggy<1.0,>=0.12\n",
            "  Downloading https://files.pythonhosted.org/packages/a0/28/85c7aa31b80d150b772fbe4a229487bc6644da9ccb7e427dd8cc60cb8a62/pluggy-0.13.1-py2.py3-none-any.whl\n",
            "Requirement already satisfied: importlib-metadata>=0.12; python_version < \"3.8\" in /usr/local/lib/python3.6/dist-packages (from pytest==5.1.2->nxviz) (1.5.0)\n",
            "Requirement already satisfied: attrs>=17.4.0 in /usr/local/lib/python3.6/dist-packages (from pytest==5.1.2->nxviz) (19.3.0)\n",
            "Requirement already satisfied: wcwidth in /usr/local/lib/python3.6/dist-packages (from pytest==5.1.2->nxviz) (0.1.8)\n",
            "Requirement already satisfied: packaging in /usr/local/lib/python3.6/dist-packages (from pytest==5.1.2->nxviz) (20.1)\n",
            "Requirement already satisfied: py>=1.5.0 in /usr/local/lib/python3.6/dist-packages (from pytest==5.1.2->nxviz) (1.8.1)\n",
            "Requirement already satisfied: atomicwrites>=1.0 in /usr/local/lib/python3.6/dist-packages (from pytest==5.1.2->nxviz) (1.3.0)\n",
            "Requirement already satisfied: scipy>=0.14.0 in /usr/local/lib/python3.6/dist-packages (from seaborn==0.9.0->nxviz) (1.4.1)\n",
            "Requirement already satisfied: six>=1.4.1 in /usr/local/lib/python3.6/dist-packages (from cryptography==2.7->nxviz) (1.12.0)\n",
            "Collecting asn1crypto>=0.21.0\n",
            "\u001b[?25l  Downloading https://files.pythonhosted.org/packages/e9/51/1db4a60049fb7390959be586b6eb743098e6cea3f6b2d3ed9e17fec62ba2/asn1crypto-1.3.0-py2.py3-none-any.whl (103kB)\n",
            "\u001b[K     |████████████████████████████████| 112kB 53.7MB/s \n",
            "\u001b[?25hRequirement already satisfied: cffi!=1.11.3,>=1.8 in /usr/local/lib/python3.6/dist-packages (from cryptography==2.7->nxviz) (1.14.0)\n",
            "Requirement already satisfied: decorator>=4.3.0 in /usr/local/lib/python3.6/dist-packages (from networkx==2.3->nxviz) (4.4.1)\n",
            "Requirement already satisfied: kiwisolver>=1.0.1 in /usr/local/lib/python3.6/dist-packages (from matplotlib==3.1.1->nxviz) (1.1.0)\n",
            "Requirement already satisfied: cycler>=0.10 in /usr/local/lib/python3.6/dist-packages (from matplotlib==3.1.1->nxviz) (0.10.0)\n",
            "Requirement already satisfied: pyparsing!=2.0.4,!=2.1.2,!=2.1.6,>=2.0.1 in /usr/local/lib/python3.6/dist-packages (from matplotlib==3.1.1->nxviz) (2.4.6)\n",
            "Requirement already satisfied: zipp>=0.5 in /usr/local/lib/python3.6/dist-packages (from importlib-metadata>=0.12; python_version < \"3.8\"->pytest==5.1.2->nxviz) (3.0.0)\n",
            "Requirement already satisfied: pycparser in /usr/local/lib/python3.6/dist-packages (from cffi!=1.11.3,>=1.8->cryptography==2.7->nxviz) (2.19)\n",
            "Building wheels for collected packages: sphinxcontrib-fulltoc, networkx, PyYAML\n",
            "  Building wheel for sphinxcontrib-fulltoc (setup.py) ... \u001b[?25l\u001b[?25hdone\n",
            "  Created wheel for sphinxcontrib-fulltoc: filename=sphinxcontrib_fulltoc-1.2.0-py2.py3-none-any.whl size=8716 sha256=d04266f561770a751cfbb2240c672efe32a84b1af8e02711ce582c610d90ad75\n",
            "  Stored in directory: /root/.cache/pip/wheels/74/30/b2/f2da9acb18f37b571f3c17aa03ee6f1ac555514d99d76b9af0\n",
            "  Building wheel for networkx (setup.py) ... \u001b[?25l\u001b[?25hdone\n",
            "  Created wheel for networkx: filename=networkx-2.3-py2.py3-none-any.whl size=1556408 sha256=f8cc33a18adc07af125457c3feb272b123328e28a17071abd2e21d7f5cbff1c4\n",
            "  Stored in directory: /root/.cache/pip/wheels/de/63/64/3699be2a9d0ccdb37c7f16329acf3863fd76eda58c39c737af\n",
            "  Building wheel for PyYAML (setup.py) ... \u001b[?25l\u001b[?25hdone\n",
            "  Created wheel for PyYAML: filename=PyYAML-5.1.2-cp36-cp36m-linux_x86_64.whl size=44104 sha256=b889642531445e1dc534f547f55fb1185c433529959f86a3f4578dbfbcad1f17\n",
            "  Stored in directory: /root/.cache/pip/wheels/d9/45/dd/65f0b38450c47cf7e5312883deb97d065e030c5cca0a365030\n",
            "Successfully built sphinxcontrib-fulltoc networkx PyYAML\n",
            "\u001b[31mERROR: datascience 0.10.6 has requirement folium==0.2.1, but you'll have folium 0.8.3 which is incompatible.\u001b[0m\n",
            "\u001b[31mERROR: albumentations 0.1.12 has requirement imgaug<0.2.7,>=0.2.5, but you'll have imgaug 0.2.9 which is incompatible.\u001b[0m\n",
            "Installing collected packages: numpy, pandas, pluggy, more-itertools, pytest, matplotlib, seaborn, palettable, hypothesis, asn1crypto, cryptography, sphinxcontrib-fulltoc, setuptools, networkx, PyYAML, nxviz\n",
            "  Found existing installation: numpy 1.17.5\n",
            "    Uninstalling numpy-1.17.5:\n",
            "      Successfully uninstalled numpy-1.17.5\n",
            "  Found existing installation: pandas 0.25.3\n",
            "    Uninstalling pandas-0.25.3:\n",
            "      Successfully uninstalled pandas-0.25.3\n",
            "  Found existing installation: pluggy 0.7.1\n",
            "    Uninstalling pluggy-0.7.1:\n",
            "      Successfully uninstalled pluggy-0.7.1\n",
            "  Found existing installation: more-itertools 8.2.0\n",
            "    Uninstalling more-itertools-8.2.0:\n",
            "      Successfully uninstalled more-itertools-8.2.0\n",
            "  Found existing installation: pytest 3.6.4\n",
            "    Uninstalling pytest-3.6.4:\n",
            "      Successfully uninstalled pytest-3.6.4\n",
            "  Found existing installation: matplotlib 3.1.3\n",
            "    Uninstalling matplotlib-3.1.3:\n",
            "      Successfully uninstalled matplotlib-3.1.3\n",
            "  Found existing installation: seaborn 0.10.0\n",
            "    Uninstalling seaborn-0.10.0:\n",
            "      Successfully uninstalled seaborn-0.10.0\n",
            "  Found existing installation: palettable 3.3.0\n",
            "    Uninstalling palettable-3.3.0:\n",
            "      Successfully uninstalled palettable-3.3.0\n",
            "  Found existing installation: setuptools 45.1.0\n",
            "    Uninstalling setuptools-45.1.0:\n",
            "      Successfully uninstalled setuptools-45.1.0\n",
            "  Found existing installation: networkx 2.4\n",
            "    Uninstalling networkx-2.4:\n",
            "      Successfully uninstalled networkx-2.4\n",
            "  Found existing installation: PyYAML 3.13\n",
            "    Uninstalling PyYAML-3.13:\n",
            "      Successfully uninstalled PyYAML-3.13\n",
            "Successfully installed PyYAML-5.1.2 asn1crypto-1.3.0 cryptography-2.7 hypothesis-4.34.0 matplotlib-3.1.1 more-itertools-7.2.0 networkx-2.3 numpy-1.17.1 nxviz-0.6.2 palettable-3.1.1 pandas-0.25.1 pluggy-0.13.1 pytest-5.1.2 seaborn-0.9.0 setuptools-41.2.0 sphinxcontrib-fulltoc-1.2.0\n"
          ],
          "name": "stdout"
        },
        {
          "output_type": "display_data",
          "data": {
            "application/vnd.colab-display-data+json": {
              "pip_warning": {
                "packages": [
                  "matplotlib",
                  "mpl_toolkits",
                  "numpy",
                  "pandas",
                  "pkg_resources",
                  "sphinxcontrib"
                ]
              }
            }
          },
          "metadata": {
            "tags": []
          }
        }
      ]
    },
    {
      "cell_type": "code",
      "metadata": {
        "id": "WZw49yfC6KfC",
        "colab_type": "code",
        "colab": {}
      },
      "source": [
        "# Import Library\n",
        "import networkx as nx"
      ],
      "execution_count": 0,
      "outputs": []
    },
    {
      "cell_type": "code",
      "metadata": {
        "id": "qT73rihb212N",
        "colab_type": "code",
        "colab": {}
      },
      "source": [
        "from nxviz.plots import ArcPlot"
      ],
      "execution_count": 0,
      "outputs": []
    },
    {
      "cell_type": "code",
      "metadata": {
        "id": "UedwUu0o3D4S",
        "colab_type": "code",
        "colab": {}
      },
      "source": [
        "from random import choice"
      ],
      "execution_count": 0,
      "outputs": []
    },
    {
      "cell_type": "code",
      "metadata": {
        "id": "ztNAtH6H3KYX",
        "colab_type": "code",
        "colab": {}
      },
      "source": [
        "import matplotlib.pyplot as plt"
      ],
      "execution_count": 0,
      "outputs": []
    },
    {
      "cell_type": "code",
      "metadata": {
        "id": "TLyQ2fYc29KV",
        "colab_type": "code",
        "colab": {
          "base_uri": "https://localhost:8080/",
          "height": 357
        },
        "outputId": "58c04efa-e947-4218-ca1b-3c1549e882c8"
      },
      "source": [
        "G = nx.barbell_graph(m1=10, m2=3)\n",
        "for n, d in G.nodes(data=True):\n",
        "    G.node[n][\"class\"] = choice([\"one\", \"two\", \"three\"])\n",
        "c = ArcPlot(G, node_color=\"class\", node_order=\"class\")\n",
        "c.draw()\n",
        "plt.show()"
      ],
      "execution_count": 8,
      "outputs": [
        {
          "output_type": "display_data",
          "data": {
            "image/png": "[encoded data removed]",
            "text/plain": [
              "<Figure size 432x432 with 1 Axes>"
            ]
          },
          "metadata": {
            "tags": []
          }
        }
      ]
    },
    {
      "cell_type": "markdown",
      "metadata": {
        "id": "R3oAMRYLCpgc",
        "colab_type": "text"
      },
      "source": [
        "## Import Dataset"
      ]
    },
    {
      "cell_type": "markdown",
      "metadata": {
        "id": "R6GXRHu7T5vs",
        "colab_type": "text"
      },
      "source": [
        "We will use [Zachary's karate Club Dataset](https://en.wikipedia.org/wiki/Zachary%27s_karate_club) that avaiable in [NetworkX](https://networkx.github.io/documentation/networkx-1.10/reference/generated/networkx.generators.social.karate_club_graph.html#networkx.generators.social.karate_club_graph)"
      ]
    },
    {
      "cell_type": "code",
      "metadata": {
        "id": "adZTWtrl6S-A",
        "colab_type": "code",
        "colab": {}
      },
      "source": [
        "# Import Dataset\n",
        "G = nx.karate_club_graph()\n",
        "print('#nodes:', len(G.nodes()), 'and', '#edges:', len(G.edges()))"
      ],
      "execution_count": 0,
      "outputs": []
    },
    {
      "cell_type": "markdown",
      "metadata": {
        "id": "GBWfBUKz6Lj1",
        "colab_type": "text"
      },
      "source": [
        "The data was collected from the members of a university karate club by Wayne Zachary in 1977.\n",
        "Each node represents a member of the club.\n",
        "Each edge represents a tie between two members of the club.\n",
        "The network is undirected and unweighted. There are 34 members of a university karate club and 78 interactions between members. "
      ]
    },
    {
      "cell_type": "markdown",
      "metadata": {
        "id": "f4CyY9tXCsTf",
        "colab_type": "text"
      },
      "source": [
        "## Show Nodes and Edges"
      ]
    },
    {
      "cell_type": "code",
      "metadata": {
        "id": "8HKuIZbA7z2K",
        "colab_type": "code",
        "colab": {}
      },
      "source": [
        "# Show the nodes\n",
        "nx.nodes(G)"
      ],
      "execution_count": 0,
      "outputs": []
    },
    {
      "cell_type": "code",
      "metadata": {
        "id": "Gu0gzcZS7p7m",
        "colab_type": "code",
        "colab": {}
      },
      "source": [
        "# Show the edges\n",
        "nx.edges(G)"
      ],
      "execution_count": 0,
      "outputs": []
    },
    {
      "cell_type": "markdown",
      "metadata": {
        "id": "9ulifuHvTkOX",
        "colab_type": "text"
      },
      "source": [
        "## Drawing/Visualization\n",
        "\n",
        "Drawing/Visualization documentation: https://networkx.github.io/documentation/stable/reference/drawing.html"
      ]
    },
    {
      "cell_type": "code",
      "metadata": {
        "id": "zIhJk0y3FgEA",
        "colab_type": "code",
        "colab": {}
      },
      "source": [
        "# Drawing\n",
        "import matplotlib.pyplot as plt\n",
        "layout = nx.fruchterman_reingold_layout(G)\n",
        "plt.figure(figsize=(10,10))\n",
        "plt.axis(\"off\") \n",
        "nx.draw_networkx(G, layout, with_labels=True, node_color = '#FF5733' )\n"
      ],
      "execution_count": 0,
      "outputs": []
    },
    {
      "cell_type": "markdown",
      "metadata": {
        "id": "l3qRueLEC6PI",
        "colab_type": "text"
      },
      "source": [
        "## Graph Density"
      ]
    },
    {
      "cell_type": "markdown",
      "metadata": {
        "id": "U8i49eVX7hKS",
        "colab_type": "text"
      },
      "source": [
        "Closer to 0 ,  the interactions between karate members are more distant. Closer to 1 ,  the interactions are denser."
      ]
    },
    {
      "cell_type": "code",
      "metadata": {
        "id": "PiQEBo-hrF8G",
        "colab_type": "code",
        "colab": {}
      },
      "source": [
        "# Graph Density\n",
        "nx.density(G)"
      ],
      "execution_count": 0,
      "outputs": []
    },
    {
      "cell_type": "markdown",
      "metadata": {
        "id": "mK3lZ45GC9qG",
        "colab_type": "text"
      },
      "source": [
        "## Average Shortest Path Lenght"
      ]
    },
    {
      "cell_type": "markdown",
      "metadata": {
        "id": "DBg5qpL49YmP",
        "colab_type": "text"
      },
      "source": [
        "Average distance among karate members."
      ]
    },
    {
      "cell_type": "code",
      "metadata": {
        "id": "jQSqafuyvWAB",
        "colab_type": "code",
        "colab": {}
      },
      "source": [
        "# Average Shortest Path Lenght\n",
        "nx.average_shortest_path_length(G)"
      ],
      "execution_count": 0,
      "outputs": []
    },
    {
      "cell_type": "markdown",
      "metadata": {
        "id": "I14hztEbDGqg",
        "colab_type": "text"
      },
      "source": [
        "## Network Diameter"
      ]
    },
    {
      "cell_type": "markdown",
      "metadata": {
        "id": "w3rehmjH9qoW",
        "colab_type": "text"
      },
      "source": [
        "Maximum distance between two farthest members."
      ]
    },
    {
      "cell_type": "code",
      "metadata": {
        "id": "J_TqCKNLibNb",
        "colab_type": "code",
        "colab": {}
      },
      "source": [
        "nx.diameter(G)"
      ],
      "execution_count": 0,
      "outputs": []
    },
    {
      "cell_type": "markdown",
      "metadata": {
        "id": "AeIpjd-kwMQj",
        "colab_type": "text"
      },
      "source": [
        "## Community Detection"
      ]
    },
    {
      "cell_type": "code",
      "metadata": {
        "id": "ZFcVaQcMtbKz",
        "colab_type": "code",
        "colab": {}
      },
      "source": [
        "# Community Detection using Modularity\n",
        "from networkx.algorithms.community import greedy_modularity_communities\n",
        "greedy_modularity_communities(G)"
      ],
      "execution_count": 0,
      "outputs": []
    },
    {
      "cell_type": "markdown",
      "metadata": {
        "id": "qEEsn7DawSDe",
        "colab_type": "text"
      },
      "source": [
        "## Connected Component"
      ]
    },
    {
      "cell_type": "code",
      "metadata": {
        "id": "j9cOnLrCoEz-",
        "colab_type": "code",
        "colab": {}
      },
      "source": [
        "# Count Number of Connected Components\n",
        "nx.number_connected_components(G)"
      ],
      "execution_count": 0,
      "outputs": []
    },
    {
      "cell_type": "markdown",
      "metadata": {
        "id": "WnoNXjjo-gdR",
        "colab_type": "text"
      },
      "source": [
        "## Degree"
      ]
    },
    {
      "cell_type": "code",
      "metadata": {
        "id": "aBX3PD7I8nIn",
        "colab_type": "code",
        "colab": {}
      },
      "source": [
        "# Show node degree\n",
        "nx.degree(G)"
      ],
      "execution_count": 0,
      "outputs": []
    },
    {
      "cell_type": "code",
      "metadata": {
        "id": "0TTf6ffh8tuJ",
        "colab_type": "code",
        "colab": {}
      },
      "source": [
        "# Sorted from the highest Degree\n",
        "sorted(nx.degree(G), key=lambda x: x[1], reverse=True)"
      ],
      "execution_count": 0,
      "outputs": []
    },
    {
      "cell_type": "markdown",
      "metadata": {
        "id": "mRg4pjLM_3zh",
        "colab_type": "text"
      },
      "source": [
        "## Betweenness Centrality"
      ]
    },
    {
      "cell_type": "code",
      "metadata": {
        "id": "aA-6qHr0sSf1",
        "colab_type": "code",
        "colab": {}
      },
      "source": [
        "# Calculate betweeness centrality and sort from the highest value\n",
        "sorted(nx.betweenness_centrality(G, normalized=True).items(), key=lambda x:x[1], reverse=True)[0:10]"
      ],
      "execution_count": 0,
      "outputs": []
    },
    {
      "cell_type": "markdown",
      "metadata": {
        "id": "I2ofAG8qfUMB",
        "colab_type": "text"
      },
      "source": [
        "## Closeness Centrality"
      ]
    },
    {
      "cell_type": "code",
      "metadata": {
        "id": "aLf0MLSTs48B",
        "colab_type": "code",
        "colab": {}
      },
      "source": [
        "# Calculate closeness centrality and sort from the highest value\n",
        "sorted(nx.closeness_centrality(G).items(), key=lambda x:x[1], reverse=True)[0:10]"
      ],
      "execution_count": 0,
      "outputs": []
    },
    {
      "cell_type": "markdown",
      "metadata": {
        "id": "GDzMCqwnfZch",
        "colab_type": "text"
      },
      "source": [
        "## Eigenvector Centrality"
      ]
    },
    {
      "cell_type": "code",
      "metadata": {
        "id": "SOIMZWqTtJl-",
        "colab_type": "code",
        "colab": {}
      },
      "source": [
        "# Calculate eigenvector centrality and sort from the highest value\n",
        "sorted(nx.eigenvector_centrality(G).items(), key=lambda x:x[1], reverse=True)[0:10]"
      ],
      "execution_count": 0,
      "outputs": []
    }
  ]
}