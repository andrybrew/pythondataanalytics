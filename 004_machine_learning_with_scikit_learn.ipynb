{
  "nbformat": 4,
  "nbformat_minor": 0,
  "metadata": {
    "colab": {
      "name": "004_machine_learning_with_scikit_learn.ipynb",
      "provenance": [],
      "collapsed_sections": [
        "LCQ5IM2Nt7EU"
      ],
      "toc_visible": true,
      "include_colab_link": true
    },
    "kernelspec": {
      "name": "python3",
      "display_name": "Python 3"
    }
  },
  "cells": [
    {
      "cell_type": "markdown",
      "metadata": {
        "id": "view-in-github",
        "colab_type": "text"
      },
      "source": [
        "<a href=\"https://colab.research.google.com/github/andrybrew/pythondataanalytics/blob/master/004_machine_learning_with_scikit_learn.ipynb\" target=\"_parent\"><img src=\"https://colab.research.google.com/assets/colab-badge.svg\" alt=\"Open In Colab\"/></a>"
      ]
    },
    {
      "cell_type": "markdown",
      "metadata": {
        "id": "J5JsOY7DWVS7",
        "colab_type": "text"
      },
      "source": [
        "# Machine Learning with Scikit-Learn"
      ]
    },
    {
      "cell_type": "markdown",
      "metadata": {
        "id": "eGRZ7KBydODb",
        "colab_type": "text"
      },
      "source": [
        "Machine learning (ML) is the scientific study of algorithms and statistical models that computer systems use to perform a specific task without using explicit instructions, relying on patterns and inference instead. It is seen as a subset of artificial intelligence. Machine learning algorithms build a mathematical model based on sample data, known as \"training data\", in order to make predictions or decisions without being explicitly programmed to perform the task. Machine learning algorithms are used in a wide variety of applications, such as email filtering and computer vision, where it is difficult or infeasible to develop a conventional algorithm for effectively performing the task.\n"
      ]
    },
    {
      "cell_type": "markdown",
      "metadata": {
        "id": "DuMahuoTWYKI",
        "colab_type": "text"
      },
      "source": [
        "Import Libraries"
      ]
    },
    {
      "cell_type": "code",
      "metadata": {
        "id": "Rc1dFIvAVkgJ",
        "colab_type": "code",
        "colab": {}
      },
      "source": [
        "# Import Library for Data Manipulation\n",
        "import pandas as pd"
      ],
      "execution_count": 0,
      "outputs": []
    },
    {
      "cell_type": "code",
      "metadata": {
        "id": "chFV2XFghGsQ",
        "colab_type": "code",
        "colab": {}
      },
      "source": [
        "# Import Library for Visualization\n",
        "import matplotlib. pyplot as plt\n",
        "import seaborn as sns"
      ],
      "execution_count": 0,
      "outputs": []
    },
    {
      "cell_type": "markdown",
      "metadata": {
        "id": "ybRCtj0Udx90",
        "colab_type": "text"
      },
      "source": [
        "## Supervised Learning"
      ]
    },
    {
      "cell_type": "markdown",
      "metadata": {
        "id": "sqyFFdRhfK4M",
        "colab_type": "text"
      },
      "source": [
        "Supervised learning is the machine learning task of learning a function that maps an input to an output based on example input-output pairs. It infers a function from labeled training data consisting of a set of training examples. A supervised learning algorithm analyzes the training data and produces an inferred function, which can be used for mapping new examples. An optimal scenario will allow for the algorithm to correctly determine the class labels for unseen instances. This requires the learning algorithm to generalize from the training data to unseen situations in a \"reasonable\" way."
      ]
    },
    {
      "cell_type": "markdown",
      "metadata": {
        "id": "IBVWQUCr3SkU",
        "colab_type": "text"
      },
      "source": [
        "### 1.Regression Model"
      ]
    },
    {
      "cell_type": "markdown",
      "metadata": {
        "id": "WhMF_SSPe8nn",
        "colab_type": "text"
      },
      "source": [
        "Regression analysis is a set of statistical processes for estimating the relationships between a dependent variable (often called the 'outcome variable') and one or more independent variables (often called 'predictors', 'covariates', or 'features')."
      ]
    },
    {
      "cell_type": "markdown",
      "metadata": {
        "id": "WzvzIks4hNit",
        "colab_type": "text"
      },
      "source": [
        "#### a.Linear Regression"
      ]
    },
    {
      "cell_type": "markdown",
      "metadata": {
        "id": "VhfHAEQbevjb",
        "colab_type": "text"
      },
      "source": [
        "Linear regression is a linear approach to modeling the relationship between a scalar response (or dependent variable) and one or more explanatory variables (or independent variables). The case of one explanatory variable is called simple linear regression. For more than one explanatory variable, the process is called multiple linear regression."
      ]
    },
    {
      "cell_type": "markdown",
      "metadata": {
        "id": "tji-5BawhdOP",
        "colab_type": "text"
      },
      "source": [
        "Import Data"
      ]
    },
    {
      "cell_type": "code",
      "metadata": {
        "id": "WGhjqZojhfKU",
        "colab_type": "code",
        "colab": {}
      },
      "source": [
        "# Import Dataset\n",
        "df_salary = pd.read_csv('https://raw.githubusercontent.com/andrybrew/all-files/master/dataset_python/salary_data.csv')\n",
        "df_salary"
      ],
      "execution_count": 0,
      "outputs": []
    },
    {
      "cell_type": "code",
      "metadata": {
        "id": "-TIZx9mahpEs",
        "colab_type": "code",
        "colab": {}
      },
      "source": [
        "# Prints the Dataset Information\n",
        "salary_df.info()"
      ],
      "execution_count": 0,
      "outputs": []
    },
    {
      "cell_type": "code",
      "metadata": {
        "id": "nCA765vHw8Qi",
        "colab_type": "code",
        "colab": {}
      },
      "source": [
        "# Prints Descriptive Statistics\n",
        "salary_df.describe().transpose()"
      ],
      "execution_count": 0,
      "outputs": []
    },
    {
      "cell_type": "markdown",
      "metadata": {
        "id": "_ZUweVEqxNxX",
        "colab_type": "text"
      },
      "source": [
        "Modeling Linear Regression"
      ]
    },
    {
      "cell_type": "code",
      "metadata": {
        "id": "gEN9JkjjxR4A",
        "colab_type": "code",
        "colab": {}
      },
      "source": [
        "# Importing Linear Regression Module\n",
        "from sklearn.linear_model import LinearRegression\n",
        "\n",
        "# Modeling Linear Regression\n",
        "lr = LinearRegression()\n",
        "\n",
        "# Select X and Y Variable\n",
        "X = salary_df.iloc[:, :-1].values\n",
        "Y = salary_df.iloc[:, 1].values\n",
        "\n",
        "# Apply Model to Data\n",
        "lr.fit(X, Y)"
      ],
      "execution_count": 0,
      "outputs": []
    },
    {
      "cell_type": "code",
      "metadata": {
        "id": "-eb8zI1dx3fR",
        "colab_type": "code",
        "colab": {}
      },
      "source": [
        "# Show Coefficent and Intercept\n",
        "print('Coefficient = ', lr.coef_)\n",
        "print('Intercept =', lr.intercept_)"
      ],
      "execution_count": 0,
      "outputs": []
    },
    {
      "cell_type": "markdown",
      "metadata": {
        "id": "jlLFIn5cx5La",
        "colab_type": "text"
      },
      "source": [
        "Visualizing Result"
      ]
    },
    {
      "cell_type": "code",
      "metadata": {
        "id": "vHS7aAeXx7hP",
        "colab_type": "code",
        "colab": {}
      },
      "source": [
        "# Draw Scatter Plot with X and Y Axes\n",
        "plt.scatter(X, Y)\n",
        "\n",
        "# Show Regression Line with Green Color\n",
        "plt.plot(X, lr.predict(X), color = \"green\")\n",
        "\n",
        "# Set Title\n",
        "plt.title(\"Salary vs Experience\")\n",
        "\n",
        "# Set Axes Name\n",
        "plt.xlabel(\"Years of Experience\")\n",
        "plt.ylabel(\"Salary\")\n",
        "\n",
        "# Show Plot\n",
        "plt.show()"
      ],
      "execution_count": 0,
      "outputs": []
    },
    {
      "cell_type": "markdown",
      "metadata": {
        "id": "YxlIGYbZydFR",
        "colab_type": "text"
      },
      "source": [
        "#### b.Logistic Regression Model"
      ]
    },
    {
      "cell_type": "markdown",
      "metadata": {
        "colab_type": "text",
        "id": "-GBHIjzpzeYI"
      },
      "source": [
        "Import Libraries"
      ]
    },
    {
      "cell_type": "code",
      "metadata": {
        "colab_type": "code",
        "id": "2p6oiFHezeYN",
        "colab": {}
      },
      "source": [
        "# Import Library for Data Manipulation\n",
        "import pandas as pd"
      ],
      "execution_count": 0,
      "outputs": []
    },
    {
      "cell_type": "markdown",
      "metadata": {
        "colab_type": "text",
        "id": "8CmJkUsTzeYU"
      },
      "source": [
        "Import Data"
      ]
    },
    {
      "cell_type": "code",
      "metadata": {
        "colab_type": "code",
        "id": "qCEspOFVzeYV",
        "colab": {}
      },
      "source": [
        "# Import Dataset\n",
        "df_churn = pd.read_csv('https://raw.githubusercontent.com/andrybrew/all-files/master/dataset_python/churn_transformed.csv')\n",
        "df_churn.head(5)"
      ],
      "execution_count": 0,
      "outputs": []
    },
    {
      "cell_type": "code",
      "metadata": {
        "colab_type": "code",
        "id": "B6o_x1hDzeYZ",
        "colab": {}
      },
      "source": [
        "# Prints the Dataset Information\n",
        "df_churn.info()"
      ],
      "execution_count": 0,
      "outputs": []
    },
    {
      "cell_type": "code",
      "metadata": {
        "colab_type": "code",
        "id": "A-SxL5OwzeYc",
        "colab": {}
      },
      "source": [
        "# Prints Descriptive Statistics\n",
        "df_churn.describe().transpose()"
      ],
      "execution_count": 0,
      "outputs": []
    },
    {
      "cell_type": "markdown",
      "metadata": {
        "id": "0OympUMG0sBV",
        "colab_type": "text"
      },
      "source": [
        "Data Preparation"
      ]
    },
    {
      "cell_type": "code",
      "metadata": {
        "id": "y5zV7zM40V-_",
        "colab_type": "code",
        "colab": {}
      },
      "source": [
        "# Remove \"Unnamed:O\" Coloumn\n",
        "df_churn1 = df_churn.drop(\"Unnamed: 0\", axis=1)\n",
        "df_churn1.head()"
      ],
      "execution_count": 0,
      "outputs": []
    },
    {
      "cell_type": "code",
      "metadata": {
        "id": "UQFTig_v0klf",
        "colab_type": "code",
        "colab": {}
      },
      "source": [
        "# Selecting the Feature, by remove the unused feature \n",
        "feature = ['Churn', 'TotalCharges']\n",
        "train_feature = df_churn1.drop(feature, axis=1)"
      ],
      "execution_count": 0,
      "outputs": []
    },
    {
      "cell_type": "code",
      "metadata": {
        "id": "vacgNWxh0q_B",
        "colab_type": "code",
        "colab": {}
      },
      "source": [
        "# Set the Target\n",
        "train_target = df_churn1[\"Churn\"]"
      ],
      "execution_count": 0,
      "outputs": []
    },
    {
      "cell_type": "code",
      "metadata": {
        "id": "wcS1t1Rp020y",
        "colab_type": "code",
        "colab": {}
      },
      "source": [
        "# Split Data 70% : 30%\n",
        "from sklearn.model_selection import train_test_split, cross_val_score\n",
        "X_train, X_test, y_train, y_test = train_test_split(train_feature ,train_target, shuffle = True, test_size=0.3, random_state=1)"
      ],
      "execution_count": 0,
      "outputs": []
    },
    {
      "cell_type": "markdown",
      "metadata": {
        "id": "QgYv93ja09sJ",
        "colab_type": "text"
      },
      "source": [
        "Modeling Logistic Regression"
      ]
    },
    {
      "cell_type": "code",
      "metadata": {
        "id": "1_V1n5hA1Hir",
        "colab_type": "code",
        "colab": {}
      },
      "source": [
        "# Importing Logistic Regression Module\n",
        "from sklearn.linear_model import LogisticRegression\n",
        "\n",
        "# Modeling Logistic Regression\n",
        "logreg = LogisticRegression()\n",
        "\n",
        "# Apply Model to Data\n",
        "logreg_model = logreg.fit(X_train,y_train)"
      ],
      "execution_count": 0,
      "outputs": []
    },
    {
      "cell_type": "code",
      "metadata": {
        "id": "r9z2Ga7S2Y5l",
        "colab_type": "code",
        "colab": {}
      },
      "source": [
        "# Predict the Test Data\n",
        "y_predlg =logreg.predict(X_test)"
      ],
      "execution_count": 0,
      "outputs": []
    },
    {
      "cell_type": "markdown",
      "metadata": {
        "id": "tavjnJRa2m4u",
        "colab_type": "text"
      },
      "source": [
        "Evaluating Model"
      ]
    },
    {
      "cell_type": "code",
      "metadata": {
        "id": "tNkLvigV2qUi",
        "colab_type": "code",
        "colab": {}
      },
      "source": [
        "# Importing Confusion Metrics Module\n",
        "from sklearn import metrics\n",
        "\n",
        "cnf_matrixlg = metrics.confusion_matrix(y_test, y_predlg)\n",
        "cnf_matrixlg"
      ],
      "execution_count": 0,
      "outputs": []
    },
    {
      "cell_type": "code",
      "metadata": {
        "id": "f10omVr72wa2",
        "colab_type": "code",
        "colab": {}
      },
      "source": [
        "# Show the Accuracy, Precision, Recall\n",
        "acc_lg = metrics.accuracy_score(y_test, y_predlg)\n",
        "prec_lg = metrics.precision_score(y_test, y_predlg)\n",
        "rec_lg = metrics.recall_score(y_test, y_predlg)\n",
        "f1_lg = metrics.f1_score(y_test, y_predlg)\n",
        "kappa_lg = metrics.cohen_kappa_score(y_test, y_predlg)\n",
        "\n",
        "print(\"Accuracy:\", acc_lg )\n",
        "print(\"Precision:\", prec_lg)\n",
        "print(\"Recall:\", rec_lg)\n",
        "print(\"F1 Score:\", f1_lg)\n",
        "print(\"Cohens Kappa Score:\", kappa_lg)"
      ],
      "execution_count": 0,
      "outputs": []
    },
    {
      "cell_type": "markdown",
      "metadata": {
        "id": "WLdOajMO3_PL",
        "colab_type": "text"
      },
      "source": [
        "### 2.Classification Model"
      ]
    },
    {
      "cell_type": "markdown",
      "metadata": {
        "colab_type": "text",
        "id": "GTXxbZFZ4_Ys"
      },
      "source": [
        "Import Libraries"
      ]
    },
    {
      "cell_type": "code",
      "metadata": {
        "colab_type": "code",
        "id": "JnqvnQIe4_Yt",
        "colab": {}
      },
      "source": [
        "# Import Library for Data Manipulation\n",
        "import pandas as pd"
      ],
      "execution_count": 0,
      "outputs": []
    },
    {
      "cell_type": "code",
      "metadata": {
        "id": "iSar1QCYRdUK",
        "colab_type": "code",
        "colab": {}
      },
      "source": [
        "# Import Library for Visualization\n",
        "import matplotlib.pyplot as plt"
      ],
      "execution_count": 0,
      "outputs": []
    },
    {
      "cell_type": "markdown",
      "metadata": {
        "colab_type": "text",
        "id": "9mNT4CUu4_Yw"
      },
      "source": [
        "Import Data"
      ]
    },
    {
      "cell_type": "code",
      "metadata": {
        "colab_type": "code",
        "id": "_RxOGxpt4_Yx",
        "colab": {}
      },
      "source": [
        "# Import Dataset\n",
        "df_churn = pd.read_csv('https://raw.githubusercontent.com/andrybrew/all-files/master/dataset_python/churn_transformed.csv')\n",
        "df_churn.head(5)"
      ],
      "execution_count": 0,
      "outputs": []
    },
    {
      "cell_type": "code",
      "metadata": {
        "colab_type": "code",
        "id": "a8-EvOSg4_Y1",
        "colab": {}
      },
      "source": [
        "# Prints the Dataset Information\n",
        "df_churn.info()"
      ],
      "execution_count": 0,
      "outputs": []
    },
    {
      "cell_type": "code",
      "metadata": {
        "colab_type": "code",
        "id": "cnrifoCC4_Y4",
        "colab": {}
      },
      "source": [
        "# Prints Descriptive Statistics\n",
        "df_churn.dscribe().transpose()"
      ],
      "execution_count": 0,
      "outputs": []
    },
    {
      "cell_type": "markdown",
      "metadata": {
        "colab_type": "text",
        "id": "nrQfjbb44_Y_"
      },
      "source": [
        "Data Preparation"
      ]
    },
    {
      "cell_type": "code",
      "metadata": {
        "colab_type": "code",
        "id": "dyDldwrH4_ZB",
        "colab": {}
      },
      "source": [
        "# Remove \"Unnamed:O\" Coloumn\n",
        "df_churn1 = df_churn.drop(\"Unnamed: 0\", axis=1)\n",
        "df_churn1.head()"
      ],
      "execution_count": 0,
      "outputs": []
    },
    {
      "cell_type": "code",
      "metadata": {
        "id": "C64Wy2Hu6Gsn",
        "colab_type": "code",
        "colab": {}
      },
      "source": [
        "# Importing Standardscalar Module \n",
        "from sklearn.preprocessing import StandardScaler \n",
        "\n",
        "# Set Name for StandardScaler as scaler\n",
        "scaler = StandardScaler() \n",
        "\n",
        "# Fit Standardization\n",
        "scaler.fit(df_churn1) "
      ],
      "execution_count": 0,
      "outputs": []
    },
    {
      "cell_type": "code",
      "metadata": {
        "colab_type": "code",
        "id": "l4bJXUXe4_ZE",
        "colab": {}
      },
      "source": [
        "# Selecting the Feature, by remove the unused feature \n",
        "feature = ['Churn', 'TotalCharges']\n",
        "train_feature = df_churn1.drop(feature, axis=1)"
      ],
      "execution_count": 0,
      "outputs": []
    },
    {
      "cell_type": "code",
      "metadata": {
        "colab_type": "code",
        "id": "MFCi2lTf4_ZH",
        "colab": {}
      },
      "source": [
        "# Set the Target\n",
        "train_target = df_churn1[\"Churn\"]"
      ],
      "execution_count": 0,
      "outputs": []
    },
    {
      "cell_type": "code",
      "metadata": {
        "colab_type": "code",
        "id": "Mmry0gsF4_ZL",
        "colab": {}
      },
      "source": [
        "# Split Data 70% : 30%\n",
        "from sklearn.model_selection import train_test_split, cross_val_score\n",
        "X_train, X_test, y_train, y_test = train_test_split(train_feature ,train_target, shuffle = True, test_size=0.3, random_state=1)"
      ],
      "execution_count": 0,
      "outputs": []
    },
    {
      "cell_type": "markdown",
      "metadata": {
        "colab_type": "text",
        "id": "qDsXmEnA4_ZQ"
      },
      "source": [
        "Modeling and Evaluation"
      ]
    },
    {
      "cell_type": "markdown",
      "metadata": {
        "id": "bpxlBH9W3BE2",
        "colab_type": "text"
      },
      "source": [
        "##### a.Decision Tree"
      ]
    },
    {
      "cell_type": "markdown",
      "metadata": {
        "id": "D_jYRdpBotGt",
        "colab_type": "text"
      },
      "source": [
        "Modeling Decision Tree Classifier"
      ]
    },
    {
      "cell_type": "code",
      "metadata": {
        "colab_type": "code",
        "id": "5olHo38B4_ZR",
        "colab": {}
      },
      "source": [
        "# Importing Decision Tree Module\n",
        "from sklearn import tree\n",
        "\n",
        "# Modeling Decision Tree\n",
        "dtc = tree.DecisionTreeClassifier(min_impurity_decrease=0.01)\n",
        "\n",
        "# Apply Model to Data\n",
        "dtc.fit(X_train, y_train)"
      ],
      "execution_count": 0,
      "outputs": []
    },
    {
      "cell_type": "code",
      "metadata": {
        "colab_type": "code",
        "id": "7m2XcUlQ4_ZV",
        "colab": {}
      },
      "source": [
        "# Predict the Test Data\n",
        "y_preddtc = dtc.predict(X_test)"
      ],
      "execution_count": 0,
      "outputs": []
    },
    {
      "cell_type": "code",
      "metadata": {
        "id": "HuJaroTA33hl",
        "colab_type": "code",
        "colab": {}
      },
      "source": [
        "# Plot the Tree\n",
        "tree.plot_tree(dtc.fit(X_train, y_train), class_names=['0','1']) "
      ],
      "execution_count": 0,
      "outputs": []
    },
    {
      "cell_type": "code",
      "metadata": {
        "id": "PlRLx8Xp4A9x",
        "colab_type": "code",
        "colab": {}
      },
      "source": [
        "# Visualize with graphviz\n",
        "\n",
        "from sklearn.externals.six import StringIO  \n",
        "from IPython.display import Image  \n",
        "from sklearn.tree import export_graphviz\n",
        "import pydotplus\n",
        "dot_data = StringIO()\n",
        "export_graphviz(dtc, out_file=dot_data,  \n",
        "                filled=True, rounded=True,\n",
        "                special_characters=True, class_names=['0','1'])\n",
        "graph = pydotplus.graph_from_dot_data(dot_data.getvalue())  \n",
        "Image(graph.create_png())"
      ],
      "execution_count": 0,
      "outputs": []
    },
    {
      "cell_type": "markdown",
      "metadata": {
        "id": "0eEhRqH-oxEB",
        "colab_type": "text"
      },
      "source": [
        "Evaluating Decision Tree Model"
      ]
    },
    {
      "cell_type": "code",
      "metadata": {
        "colab_type": "code",
        "id": "shiGO9rB4_Zc",
        "colab": {}
      },
      "source": [
        "# Importing Confusion Metrics Module\n",
        "from sklearn import metrics\n",
        "\n",
        "cnf_matrixdtc = metrics.confusion_matrix(y_test, y_preddtc)\n",
        "cnf_matrixdtc"
      ],
      "execution_count": 0,
      "outputs": []
    },
    {
      "cell_type": "code",
      "metadata": {
        "colab_type": "code",
        "id": "lcPvYBqw4_Zi",
        "colab": {}
      },
      "source": [
        "# Show the Accuracy, Precision, Recall\n",
        "acc_dtc = metrics.accuracy_score(y_test, y_preddtc)\n",
        "prec_dtc = metrics.precision_score(y_test, y_preddtc)\n",
        "rec_dtc = metrics.recall_score(y_test, y_preddtc)\n",
        "f1_dtc = metrics.f1_score(y_test, y_preddtc)\n",
        "kappa_dtc = metrics.cohen_kappa_score(y_test, y_preddtc)\n",
        "\n",
        "print(\"Accuracy:\", acc_dtc )\n",
        "print(\"Precision:\", prec_dtc)\n",
        "print(\"Recall:\", rec_dtc)\n",
        "print(\"F1 Score:\", f1_dtc)\n",
        "print(\"Cohens Kappa Score:\", kappa_dtc)"
      ],
      "execution_count": 0,
      "outputs": []
    },
    {
      "cell_type": "code",
      "metadata": {
        "id": "_0XuhsnTRRyQ",
        "colab_type": "code",
        "colab": {}
      },
      "source": [
        "# Cross-validation Score\n",
        "cv_iterations = 5\n",
        "cv_score = cross_val_score(dtc, train_feature, train_target, cv=cv_iterations)\n",
        "print('Accuracy with cross-validation (split size = {}): {} (+/- {})'\n",
        "      .format(cv_iterations, round(cv_score.mean(),2), round(cv_score.std() * 2,2)))"
      ],
      "execution_count": 0,
      "outputs": []
    },
    {
      "cell_type": "code",
      "metadata": {
        "id": "JMfX7KuHRTqT",
        "colab_type": "code",
        "colab": {}
      },
      "source": [
        "# Set Plot\n",
        "plt.rcParams['figure.figsize'] = (7, 7)\n",
        "plt.style.use('ggplot')\n",
        "\n",
        "# Visualize ROC Curve\n",
        "y_pred_probadtc = dtc.predict_proba(X_test)[::,1]\n",
        "fprdtc, tprdtc, _ = metrics.roc_curve(y_test,  y_pred_probadtc)\n",
        "aucdtc = metrics.roc_auc_score(y_test, y_pred_probadtc)\n",
        "plt.plot(fprdtc,tprdtc,label=\"Decision Tree, auc=\"+str(aucdtc))\n",
        "plt.legend(loc=4)\n",
        "plt.show()"
      ],
      "execution_count": 0,
      "outputs": []
    },
    {
      "cell_type": "markdown",
      "metadata": {
        "colab_type": "text",
        "id": "rsMuJbxXDOsN"
      },
      "source": [
        "##### b.K-Nearest Neighbor"
      ]
    },
    {
      "cell_type": "markdown",
      "metadata": {
        "id": "LwHtNjopo1YJ",
        "colab_type": "text"
      },
      "source": [
        "Modeling K-Nearest Neighbor Classifier"
      ]
    },
    {
      "cell_type": "code",
      "metadata": {
        "colab_type": "code",
        "id": "GoyKZkCJDOsR",
        "colab": {}
      },
      "source": [
        "# Importing KNN Module\n",
        "from sklearn.neighbors import KNeighborsClassifier\n",
        "\n",
        "# Modeling KNN\n",
        "knn = KNeighborsClassifier(n_neighbors= 71)\n",
        "\n",
        "# Apply Model to Data\n",
        "knn.fit(X_train, y_train)"
      ],
      "execution_count": 0,
      "outputs": []
    },
    {
      "cell_type": "code",
      "metadata": {
        "colab_type": "code",
        "id": "SZHWUdTvDOsV",
        "colab": {}
      },
      "source": [
        "# Predict the Test Data\n",
        "y_predknn = knn.predict(X_test)"
      ],
      "execution_count": 0,
      "outputs": []
    },
    {
      "cell_type": "markdown",
      "metadata": {
        "id": "R7oGMwk6o7x6",
        "colab_type": "text"
      },
      "source": [
        "Evaluating K-Nearest Neightbor Model"
      ]
    },
    {
      "cell_type": "code",
      "metadata": {
        "colab_type": "code",
        "id": "uTQodPgXDOse",
        "colab": {}
      },
      "source": [
        "# Importing Confusion Metrics Module\n",
        "from sklearn import metrics\n",
        "\n",
        "cnf_matrixknn = metrics.confusion_matrix(y_test, y_predknn)\n",
        "cnf_matrixknn"
      ],
      "execution_count": 0,
      "outputs": []
    },
    {
      "cell_type": "code",
      "metadata": {
        "colab_type": "code",
        "id": "68cYt1O-DOsh",
        "colab": {}
      },
      "source": [
        "# Show the Accuracy, Precision, Recall\n",
        "acc_knn = metrics.accuracy_score(y_test, y_predknn)\n",
        "prec_knn = metrics.precision_score(y_test, y_predknn)\n",
        "rec_knn = metrics.recall_score(y_test, y_predknn)\n",
        "f1_knn = metrics.f1_score(y_test, y_predknn)\n",
        "kappa_knn = metrics.cohen_kappa_score(y_test, y_predknn)\n",
        "\n",
        "print(\"Accuracy:\", acc_knn)\n",
        "print(\"Precision:\", prec_knn)\n",
        "print(\"Recall:\", rec_knn)\n",
        "print(\"F1 Score:\", f1_knn)\n",
        "print(\"Cohens Kappa Score:\", kappa_knn)"
      ],
      "execution_count": 0,
      "outputs": []
    },
    {
      "cell_type": "code",
      "metadata": {
        "id": "y3QZQN2NUCo-",
        "colab_type": "code",
        "colab": {}
      },
      "source": [
        "# Cross-validation Score\n",
        "cv_iterations = 10\n",
        "cv_score = cross_val_score(knn, train_feature, train_target, cv=cv_iterations)\n",
        "print('Accuracy with cross-validation (split size = {}): {} (+/- {})'\n",
        "      .format(cv_iterations, round(cv_score.mean(),2), round(cv_score.std() * 2,2)))"
      ],
      "execution_count": 0,
      "outputs": []
    },
    {
      "cell_type": "code",
      "metadata": {
        "id": "DIx2RNggUHwS",
        "colab_type": "code",
        "colab": {}
      },
      "source": [
        "# Set Plot\n",
        "plt.rcParams['figure.figsize'] = (7, 7)\n",
        "plt.style.use('ggplot')\n",
        "\n",
        "# Visualize ROC Curve\n",
        "y_pred_probaknn = knn.predict_proba(X_test)[::,1]\n",
        "fprknn, tprknn, _ = metrics.roc_curve(y_test,  y_pred_probaknn)\n",
        "aucknn = metrics.roc_auc_score(y_test, y_pred_probaknn)\n",
        "plt.plot(fprknn,tprknn,label=\"K-NN, auc=\"+str(aucknn))\n",
        "plt.legend(loc=4)\n",
        "plt.show()"
      ],
      "execution_count": 0,
      "outputs": []
    },
    {
      "cell_type": "markdown",
      "metadata": {
        "colab_type": "text",
        "id": "8lI6MVsODVbI"
      },
      "source": [
        "##### c.Naive Bayes"
      ]
    },
    {
      "cell_type": "markdown",
      "metadata": {
        "id": "oSEgKSalpBal",
        "colab_type": "text"
      },
      "source": [
        "Modeling Naive Bayes Classifier"
      ]
    },
    {
      "cell_type": "code",
      "metadata": {
        "colab_type": "code",
        "id": "u4vvv15IDVbK",
        "colab": {}
      },
      "source": [
        "# Importing Naive Bayes Module\n",
        "from sklearn.naive_bayes import GaussianNB \n",
        "\n",
        "# Modeling Naive Bayes\n",
        "gnb = GaussianNB()\n",
        "\n",
        "# Apply Model to Data\n",
        "gnb.fit(X_train, y_train)"
      ],
      "execution_count": 0,
      "outputs": []
    },
    {
      "cell_type": "code",
      "metadata": {
        "colab_type": "code",
        "id": "xu0YWcYeDVbN",
        "colab": {}
      },
      "source": [
        "# Predict the Test Data\n",
        "y_predgnb= gnb.predict(X_test)"
      ],
      "execution_count": 0,
      "outputs": []
    },
    {
      "cell_type": "markdown",
      "metadata": {
        "id": "UwYLfr3tpEcu",
        "colab_type": "text"
      },
      "source": [
        "Evaluating Naive Bayes Model"
      ]
    },
    {
      "cell_type": "code",
      "metadata": {
        "colab_type": "code",
        "id": "TOX_Sc30DVbW",
        "colab": {}
      },
      "source": [
        "# Importing Confusion Metrics Module\n",
        "from sklearn import metrics\n",
        "\n",
        "cnf_matrixgnb = metrics.confusion_matrix(y_test, y_predgnb)\n",
        "cnf_matrixgnb"
      ],
      "execution_count": 0,
      "outputs": []
    },
    {
      "cell_type": "code",
      "metadata": {
        "colab_type": "code",
        "id": "unb5-oJWDVba",
        "colab": {}
      },
      "source": [
        "# Show the Accuracy, Precision, Recall\n",
        "acc_gnb = metrics.accuracy_score(y_test, y_predgnb)\n",
        "prec_gnb = metrics.precision_score(y_test, y_predgnb)\n",
        "rec_gnb = metrics.recall_score(y_test, y_predgnb)\n",
        "f1_gnb = metrics.f1_score(y_test, y_predgnb)\n",
        "kappa_gnb = metrics.cohen_kappa_score(y_test, y_predgnb)\n",
        "\n",
        "print(\"Accuracy:\", acc_gnb)\n",
        "print(\"Precision:\", prec_gnb)\n",
        "print(\"Recall:\", rec_gnb)\n",
        "print(\"F1 Score:\", f1_gnb)\n",
        "print(\"Cohens Kappa Score:\", kappa_gnb)"
      ],
      "execution_count": 0,
      "outputs": []
    },
    {
      "cell_type": "code",
      "metadata": {
        "id": "nYK15N8VUDws",
        "colab_type": "code",
        "colab": {}
      },
      "source": [
        "# Cross-validation Score\n",
        "cv_iterations = 10\n",
        "cv_score = cross_val_score(gnb, train_feature, train_target, cv=cv_iterations)\n",
        "print('Accuracy with cross-validation (split size = {}): {} (+/- {})'\n",
        "      .format(cv_iterations, round(cv_score.mean(),2), round(cv_score.std() * 2,2)))"
      ],
      "execution_count": 0,
      "outputs": []
    },
    {
      "cell_type": "code",
      "metadata": {
        "id": "T5No0nWkUIzx",
        "colab_type": "code",
        "colab": {}
      },
      "source": [
        "# Set Plot\n",
        "plt.rcParams['figure.figsize'] = (7, 7)\n",
        "plt.style.use('ggplot')\n",
        "\n",
        "# Visualize ROC Curve\n",
        "y_pred_probagnb = gnb.predict_proba(X_test)[::,1]\n",
        "fprgnb, tprgnb, _ = metrics.roc_curve(y_test,  y_pred_probagnb)\n",
        "aucgnb = metrics.roc_auc_score(y_test, y_pred_probagnb)\n",
        "plt.plot(fprgnb,tprgnb,label=\"Naive Bayes, auc=\"+str(aucgnb))\n",
        "plt.legend(loc=4)\n",
        "plt.show()"
      ],
      "execution_count": 0,
      "outputs": []
    },
    {
      "cell_type": "markdown",
      "metadata": {
        "colab_type": "text",
        "id": "hj6oxGQw4_Zb"
      },
      "source": [
        "#### d.Compare Evaluation Result"
      ]
    },
    {
      "cell_type": "code",
      "metadata": {
        "id": "FmrFcbYZQ-Pn",
        "colab_type": "code",
        "colab": {}
      },
      "source": [
        "# Comparing Model Performance\n",
        "print(\"Decision Tree Accuracy =\",acc_dtc)\n",
        "print(\"Decision Tree Precision =\",prec_dtc)\n",
        "print(\"Decision Tree Recall =\",rec_dtc)\n",
        "print(\"Decision Tree F1-Score =\", f1_dtc)\n",
        "print(\"_______________________\")\n",
        "print(\"k-NN Accuracy =\", acc_knn)\n",
        "print(\"k-NN Precision =\", prec_knn)\n",
        "print(\"k-NN Recall =\", rec_knn)\n",
        "print(\"k-NN F1-Score =\", f1_knn)\n",
        "print(\"_______________________\")\n",
        "print(\"Naive Bayes Accuracy =\", acc_gnb)\n",
        "print(\"Naive Bayes Precision =\", prec_gnb)\n",
        "print(\"Naive Bayes Recall =\", rec_gnb)\n",
        "print(\"Naive Bayes F1-Score =\", f1_gnb)"
      ],
      "execution_count": 0,
      "outputs": []
    },
    {
      "cell_type": "code",
      "metadata": {
        "id": "ttV_gOCTQ_Yj",
        "colab_type": "code",
        "colab": {}
      },
      "source": [
        "# Comparing ROC Curve\n",
        "plt.plot(fprdtc,tprdtc,label=\"Decision Tree, auc=\"+str(aucdtc))\n",
        "plt.plot(fprknn,tprknn,label=\"K-NN, auc=\"+str(aucknn))\n",
        "plt.plot(fprgnb,tprgnb,label=\"Naive Bayes, auc=\"+str(aucgnb))\n",
        "plt.legend(loc=4)\n",
        "plt.show()"
      ],
      "execution_count": 0,
      "outputs": []
    },
    {
      "cell_type": "markdown",
      "metadata": {
        "id": "NfAFxTVcd_LX",
        "colab_type": "text"
      },
      "source": [
        "## Unsupervised Learning"
      ]
    },
    {
      "cell_type": "markdown",
      "metadata": {
        "id": "fBT3lLL9UeGl",
        "colab_type": "text"
      },
      "source": [
        "### 3.Clustering Model"
      ]
    },
    {
      "cell_type": "markdown",
      "metadata": {
        "colab_type": "text",
        "id": "DnzdW-jfP_k2"
      },
      "source": [
        "Import Libraries"
      ]
    },
    {
      "cell_type": "code",
      "metadata": {
        "colab_type": "code",
        "id": "0e5R-sOGP_k4",
        "colab": {}
      },
      "source": [
        "# Import Library for Data Manipulation\n",
        "import pandas as pd\n",
        "import numpy as np"
      ],
      "execution_count": 0,
      "outputs": []
    },
    {
      "cell_type": "code",
      "metadata": {
        "colab_type": "code",
        "id": "5je-kp8cP_k9",
        "colab": {}
      },
      "source": [
        "# Import Library for Visualization\n",
        "import matplotlib.pyplot as plt\n",
        "import seaborn as sns"
      ],
      "execution_count": 0,
      "outputs": []
    },
    {
      "cell_type": "markdown",
      "metadata": {
        "colab_type": "text",
        "id": "xOKLZILWP_lC"
      },
      "source": [
        "Import Data"
      ]
    },
    {
      "cell_type": "code",
      "metadata": {
        "colab_type": "code",
        "id": "sk-AHvbGP_lD",
        "colab": {}
      },
      "source": [
        "# Import Dataset\n",
        "df_income = pd.read_csv('https://raw.githubusercontent.com/rc-dbe/bigdatacertification/master/dataset/clustering.csv')\n",
        "df_income.head(5)"
      ],
      "execution_count": 0,
      "outputs": []
    },
    {
      "cell_type": "code",
      "metadata": {
        "colab_type": "code",
        "id": "aAs3kf2hP_lG",
        "colab": {}
      },
      "source": [
        "# Prints the Dataset Information\n",
        "df_income.info()"
      ],
      "execution_count": 0,
      "outputs": []
    },
    {
      "cell_type": "code",
      "metadata": {
        "colab_type": "code",
        "id": "PGFHmTvTP_lK",
        "colab": {}
      },
      "source": [
        "# Prints Descriptive Statistics\n",
        "df_income.describe().transpose()"
      ],
      "execution_count": 0,
      "outputs": []
    },
    {
      "cell_type": "markdown",
      "metadata": {
        "colab_type": "text",
        "id": "cRaWmk38P_lO"
      },
      "source": [
        "Data Preparation"
      ]
    },
    {
      "cell_type": "code",
      "metadata": {
        "colab_type": "code",
        "id": "DJLkVFMSP_lR",
        "colab": {}
      },
      "source": [
        "# Importing Standardscalar Module \n",
        "from sklearn.preprocessing import StandardScaler \n",
        "\n",
        "# Set Name for StandardScaler as scaler\n",
        "scaler = StandardScaler() \n",
        "\n",
        "# Fit Standardization\n",
        "column_names = df_income.columns.tolist()\n",
        "df_income[column_names] = scaler.fit_transform(df_income[column_names])\n",
        "df_income.sort_index(inplace=True)\n",
        "df_income.head()"
      ],
      "execution_count": 0,
      "outputs": []
    },
    {
      "cell_type": "code",
      "metadata": {
        "colab_type": "code",
        "id": "jKNSDZ0tP_lX",
        "colab": {}
      },
      "source": [
        "# Styling Plot\n",
        "sns.set() \n",
        "plt.rcParams['figure.figsize'] = (16, 9)\n",
        "plt.style.use('ggplot')\n",
        "\n",
        "# Visualising the Data\n",
        "Income = df_income['INCOME'].values\n",
        "Spend = df_income['SPEND'].values\n",
        "X = np.array(list(zip(Income, Spend)))\n",
        "plt.scatter(Income, Spend, s=50)"
      ],
      "execution_count": 0,
      "outputs": []
    },
    {
      "cell_type": "markdown",
      "metadata": {
        "id": "_lptWQ-EpWUk",
        "colab_type": "text"
      },
      "source": [
        "Modeling"
      ]
    },
    {
      "cell_type": "markdown",
      "metadata": {
        "id": "J5knTfWYeT3x",
        "colab_type": "text"
      },
      "source": [
        "##### a.K-Means Clustering"
      ]
    },
    {
      "cell_type": "markdown",
      "metadata": {
        "id": "Unebu5ajef8R",
        "colab_type": "text"
      },
      "source": [
        "Search for the Optimum Number of Clusters"
      ]
    },
    {
      "cell_type": "code",
      "metadata": {
        "id": "Fl---X3eeKx9",
        "colab_type": "code",
        "colab": {}
      },
      "source": [
        "# Elbow Method\n",
        "from sklearn.cluster import KMeans\n",
        "wcss = []\n",
        "for i in range(1,11):\n",
        "    km=KMeans(n_clusters=i,init='k-means++', max_iter=300, n_init=10, random_state=0)\n",
        "    km.fit(X)\n",
        "    wcss.append(km.inertia_)\n",
        "plt.plot(range(1,11),wcss)\n",
        "plt.title('Elbow Method')\n",
        "plt.xlabel('Number of clusters')\n",
        "plt.ylabel('wcss')\n",
        "plt.show()"
      ],
      "execution_count": 0,
      "outputs": []
    },
    {
      "cell_type": "code",
      "metadata": {
        "id": "490H6p_AerBM",
        "colab_type": "code",
        "colab": {}
      },
      "source": [
        "# Silhoutte Method\n",
        "from sklearn.metrics import silhouette_score\n",
        "from sklearn.cluster import KMeans\n",
        "\n",
        "for n_cluster in range(2, 11):\n",
        "    kmeans = KMeans(n_clusters=n_cluster).fit(X)\n",
        "    label = kmeans.labels_\n",
        "    sil_coeff = silhouette_score(X, label, metric='euclidean')\n",
        "    print(\"For n_clusters={}, The Silhouette Coefficient is {}\".format(n_cluster, sil_coeff))"
      ],
      "execution_count": 0,
      "outputs": []
    },
    {
      "cell_type": "markdown",
      "metadata": {
        "id": "2CHgU53qpKmd",
        "colab_type": "text"
      },
      "source": [
        "Modeling K-Means Clustering"
      ]
    },
    {
      "cell_type": "code",
      "metadata": {
        "id": "t5c5fGHieyID",
        "colab_type": "code",
        "colab": {}
      },
      "source": [
        "# Apply the K-Means Model to the Data\n",
        "km2=KMeans(n_clusters=3,init='k-means++', max_iter=300, n_init=10, random_state=0)\n",
        "y_means = km2.fit_predict(X)"
      ],
      "execution_count": 0,
      "outputs": []
    },
    {
      "cell_type": "code",
      "metadata": {
        "id": "SOaYbUHJe0TT",
        "colab_type": "code",
        "colab": {}
      },
      "source": [
        "# Visualising Clusters for k=3\n",
        "plt.scatter(X[y_means == 0, 0], X[y_means == 0, 1], s = 50, label = 'Cluster 1')\n",
        "plt.scatter(X[y_means == 1, 0], X[y_means == 1, 1], s = 50, label = 'Cluster 2')\n",
        "plt.scatter(X[y_means == 2, 0], X[y_means == 2, 1], s = 50, label = 'Cluster 3')\n",
        "\n",
        "plt.scatter(km2.cluster_centers_[:,0], km2.cluster_centers_[:,1],s=200,marker='s', alpha=0.7, label='Centroids')\n",
        "plt.title('Customer segments')\n",
        "plt.xlabel('Annual income')\n",
        "plt.ylabel('Annual spend')\n",
        "plt.legend()\n",
        "plt.show()"
      ],
      "execution_count": 0,
      "outputs": []
    },
    {
      "cell_type": "markdown",
      "metadata": {
        "id": "8Fs66_EyfQcq",
        "colab_type": "text"
      },
      "source": [
        "##### b.Hierarchical Clustering"
      ]
    },
    {
      "cell_type": "markdown",
      "metadata": {
        "id": "Zzb0tZmIpQH2",
        "colab_type": "text"
      },
      "source": [
        "Modeling Hierarchical Clustering"
      ]
    },
    {
      "cell_type": "code",
      "metadata": {
        "id": "hx3xvztZfPpX",
        "colab_type": "code",
        "colab": {}
      },
      "source": [
        "# Modeling and Visualizing Clusters by Dendogram\n",
        "import scipy.cluster.hierarchy as sch\n",
        "dend=sch.dendrogram(sch.linkage(X, method='ward'))\n",
        "plt.title(\"Dendrogram\")\n",
        "plt.xlabel('Customer')\n",
        "plt.ylabel('euclidean')\n",
        "plt.show()"
      ],
      "execution_count": 0,
      "outputs": []
    },
    {
      "cell_type": "code",
      "metadata": {
        "id": "A4JhA2qIfmBO",
        "colab_type": "code",
        "colab": {}
      },
      "source": [
        "# Apply the Hierarchical Clustering Model to the Dataset\n",
        "from sklearn.cluster import AgglomerativeClustering\n",
        "hc=AgglomerativeClustering(n_clusters=3, affinity='euclidean', linkage='ward')\n",
        "y_hc = hc.fit_predict(X)"
      ],
      "execution_count": 0,
      "outputs": []
    },
    {
      "cell_type": "code",
      "metadata": {
        "id": "j7QvG0kXf1TS",
        "colab_type": "code",
        "colab": {}
      },
      "source": [
        "# Visualising Clusters for k=3\n",
        "plt.scatter(X[y_hc == 0, 0], X[y_hc == 0, 1], s = 50, label = 'Cluster 1')\n",
        "plt.scatter(X[y_hc == 1, 0], X[y_hc == 1, 1], s = 50, label = 'Cluster 2')\n",
        "plt.scatter(X[y_hc == 2, 0], X[y_hc == 2, 1], s = 50, label = 'Cluster 3')\n",
        "plt.title('Clusters of customers')\n",
        "plt.xlabel('Annual Income')\n",
        "plt.ylabel('Annual spend')\n",
        "plt.legend()\n",
        "plt.show()"
      ],
      "execution_count": 0,
      "outputs": []
    },
    {
      "cell_type": "markdown",
      "metadata": {
        "id": "vJYlm7FMgdrr",
        "colab_type": "text"
      },
      "source": [
        "### 4.Association Model"
      ]
    },
    {
      "cell_type": "markdown",
      "metadata": {
        "id": "unphJxPcqJgM",
        "colab_type": "text"
      },
      "source": [
        "#### a.Market Basket Analysis"
      ]
    },
    {
      "cell_type": "markdown",
      "metadata": {
        "id": "mjyocRSYgmEl",
        "colab_type": "text"
      },
      "source": [
        "Import Libraries"
      ]
    },
    {
      "cell_type": "code",
      "metadata": {
        "id": "cp__xwAVglk9",
        "colab_type": "code",
        "colab": {}
      },
      "source": [
        "# Import Library for Data Manipulation\n",
        "import pandas as pd\n",
        "import numpy as np"
      ],
      "execution_count": 0,
      "outputs": []
    },
    {
      "cell_type": "code",
      "metadata": {
        "id": "POnQf23Gm42h",
        "colab_type": "code",
        "colab": {}
      },
      "source": [
        "# Import Library for Visualization\n",
        "import seaborn as sns"
      ],
      "execution_count": 0,
      "outputs": []
    },
    {
      "cell_type": "markdown",
      "metadata": {
        "id": "TldLIj98nNV_",
        "colab_type": "text"
      },
      "source": [
        "Import Dataset"
      ]
    },
    {
      "cell_type": "code",
      "metadata": {
        "id": "RWZzEV3wnOvy",
        "colab_type": "code",
        "colab": {}
      },
      "source": [
        "# Import dataset\n",
        "df_retail = pd.read_excel(\"https://github.com/rc-dbe/bigdatacertification/blob/master/dataset/Online%20Retail.xlsx?raw=true\")\n",
        "df_retail.head()"
      ],
      "execution_count": 0,
      "outputs": []
    },
    {
      "cell_type": "code",
      "metadata": {
        "id": "ekFovn-WneZk",
        "colab_type": "code",
        "colab": {}
      },
      "source": [
        "# Prints the Dataset Information\n",
        "df_retail.info()"
      ],
      "execution_count": 0,
      "outputs": []
    },
    {
      "cell_type": "code",
      "metadata": {
        "id": "NBKPMonSngIg",
        "colab_type": "code",
        "colab": {}
      },
      "source": [
        "# Prints Descriptive Statistics\n",
        "df_retail.describe().transpose()"
      ],
      "execution_count": 0,
      "outputs": []
    },
    {
      "cell_type": "markdown",
      "metadata": {
        "id": "JHFt3_m6nrWp",
        "colab_type": "text"
      },
      "source": [
        "Data Preparation"
      ]
    },
    {
      "cell_type": "code",
      "metadata": {
        "id": "th7obKNKn1Be",
        "colab_type": "code",
        "colab": {}
      },
      "source": [
        "# Remove Additional Spaces\n",
        "df_retail['Description'] = df_retail['Description'].str.strip()\n",
        "\n",
        "# Remove Missing Values\n",
        "df_retail.dropna(axis=0, subset=['InvoiceNo'], inplace=True)\n",
        "\n",
        "# Remove Cancelled Orders\n",
        "df_retail['InvoiceNo'] = df_retail['InvoiceNo'].astype('str')\n",
        "df_retail = df_retail[~df_retail['InvoiceNo'].str.contains('C')]"
      ],
      "execution_count": 0,
      "outputs": []
    },
    {
      "cell_type": "code",
      "metadata": {
        "id": "DwU8CXkToAEx",
        "colab_type": "code",
        "colab": {}
      },
      "source": [
        "# Create Encode Function\n",
        "def encode_units(x):\n",
        "    if x <= 0:\n",
        "        return 0\n",
        "    if x >= 1:\n",
        "        return 1\n",
        "\n",
        "def create_basket(country_filter):\n",
        "    basket = (df_retail[df_retail['Country'] == country_filter]\n",
        "          .groupby(['InvoiceNo', 'Description'])['Quantity']\n",
        "          .sum().unstack().reset_index().fillna(0)\n",
        "          .set_index('InvoiceNo'))\n",
        "    return basket"
      ],
      "execution_count": 0,
      "outputs": []
    },
    {
      "cell_type": "code",
      "metadata": {
        "id": "R5aW_55boX0Q",
        "colab_type": "code",
        "colab": {}
      },
      "source": [
        "# Select Retail Data by Country : France\n",
        "country_filter = \"France\"\n",
        "basket_french = create_basket(\"France\")\n",
        "basket_sets = basket_french.applymap(encode_units)\n",
        "basket_sets.drop('POSTAGE', inplace=True, axis=1)"
      ],
      "execution_count": 0,
      "outputs": []
    },
    {
      "cell_type": "markdown",
      "metadata": {
        "id": "WSxgR5qSolR5",
        "colab_type": "text"
      },
      "source": [
        "Modeling"
      ]
    },
    {
      "cell_type": "code",
      "metadata": {
        "id": "rM-nfTzrpZxS",
        "colab_type": "code",
        "colab": {}
      },
      "source": [
        "# Import Apriori Module\n",
        "from mlxtend.frequent_patterns import apriori\n",
        "\n",
        "# Search for Frequent Itemsets\n",
        "frequent_itemsets = apriori(basket_sets, min_support=0.05, use_colnames=True)\n",
        "frequent_itemsets.head()"
      ],
      "execution_count": 0,
      "outputs": []
    },
    {
      "cell_type": "code",
      "metadata": {
        "id": "Y9__Y6ycpdcR",
        "colab_type": "code",
        "colab": {}
      },
      "source": [
        "# Import Association Rules Module\n",
        "from mlxtend.frequent_patterns import association_rules\n",
        "\n",
        "# Generate Rules\n",
        "rules = association_rules(frequent_itemsets, metric=\"lift\", min_threshold=1.2)\n",
        "rules.head()"
      ],
      "execution_count": 0,
      "outputs": []
    },
    {
      "cell_type": "code",
      "metadata": {
        "id": "odVD7uBxpj3T",
        "colab_type": "code",
        "colab": {}
      },
      "source": [
        "# Sorting the Rules by Confidence\n",
        "rules.sort_values([\"confidence\"], axis=0, \n",
        "                 ascending=False, inplace=True) \n",
        "rules"
      ],
      "execution_count": 0,
      "outputs": []
    },
    {
      "cell_type": "markdown",
      "metadata": {
        "id": "MD1eXMch4DHa",
        "colab_type": "text"
      },
      "source": [
        "### 5.Dimensionality Reduction"
      ]
    },
    {
      "cell_type": "markdown",
      "metadata": {
        "id": "YmqOjux3YK45",
        "colab_type": "text"
      },
      "source": [
        "#### a.Principal Component Analysis"
      ]
    },
    {
      "cell_type": "markdown",
      "metadata": {
        "id": "ARnsFi-WWwY9",
        "colab_type": "text"
      },
      "source": [
        "Import Data"
      ]
    },
    {
      "cell_type": "code",
      "metadata": {
        "id": "BGSFubLKWs2R",
        "colab_type": "code",
        "colab": {}
      },
      "source": [
        "# Here We Are Using Inbuilt Dataset of Scikit-Learn \n",
        "from sklearn.datasets import load_breast_cancer \n",
        "  \n",
        "# Instantiating \n",
        "cancer = load_breast_cancer() "
      ],
      "execution_count": 0,
      "outputs": []
    },
    {
      "cell_type": "code",
      "metadata": {
        "id": "32cPkRu4XIDX",
        "colab_type": "code",
        "colab": {}
      },
      "source": [
        "# Creating Dataframe \n",
        "df_pca = pd.DataFrame(cancer['data'], columns = cancer['feature_names']) "
      ],
      "execution_count": 0,
      "outputs": []
    },
    {
      "cell_type": "code",
      "metadata": {
        "id": "eLhSUtjUXV82",
        "colab_type": "code",
        "colab": {}
      },
      "source": [
        "# Checking Head of Data \n",
        "df_pca.head(5) "
      ],
      "execution_count": 0,
      "outputs": []
    },
    {
      "cell_type": "markdown",
      "metadata": {
        "id": "2gnddmOxXn3b",
        "colab_type": "text"
      },
      "source": [
        "Data Preparation"
      ]
    },
    {
      "cell_type": "code",
      "metadata": {
        "id": "vZMG7vi0XqUF",
        "colab_type": "code",
        "colab": {}
      },
      "source": [
        "# Importing Standardscalar Module \n",
        "from sklearn.preprocessing import StandardScaler \n",
        "\n",
        "# Set Name for StandardScaler as scaler\n",
        "scaler = StandardScaler() "
      ],
      "execution_count": 0,
      "outputs": []
    },
    {
      "cell_type": "code",
      "metadata": {
        "id": "TV5_tiYsXzeN",
        "colab_type": "code",
        "colab": {}
      },
      "source": [
        "# Fit Standardization\n",
        "scaler.fit(df_pca) \n",
        "\n",
        "# Transformed Data\n",
        "df_pca_scaled = pd.DataFrame(scaler.transform(df_pca))\n",
        "\n",
        "# Checking Head of Data\n",
        "df_pca_scaled.head(5) "
      ],
      "execution_count": 0,
      "outputs": []
    },
    {
      "cell_type": "code",
      "metadata": {
        "id": "p0TAfNT8gGgq",
        "colab_type": "code",
        "colab": {}
      },
      "source": [
        "# Show Data Dimension\n",
        "df_pca_scaled.shape "
      ],
      "execution_count": 0,
      "outputs": []
    },
    {
      "cell_type": "markdown",
      "metadata": {
        "id": "U8ysjghMfb7g",
        "colab_type": "text"
      },
      "source": [
        "Modeling PCA"
      ]
    },
    {
      "cell_type": "code",
      "metadata": {
        "id": "6VYn-VlFYGim",
        "colab_type": "code",
        "colab": {}
      },
      "source": [
        "# Importing PCA \n",
        "from sklearn.decomposition import PCA "
      ],
      "execution_count": 0,
      "outputs": []
    },
    {
      "cell_type": "code",
      "metadata": {
        "id": "UBz9xAgLfj3y",
        "colab_type": "code",
        "colab": {}
      },
      "source": [
        "# Modeling PCA with Components = 2 \n",
        "pca = PCA(n_components = 2) \n",
        "\n",
        "# Apply Model to Data\n",
        "pca.fit(df_pca_scaled) \n",
        "\n",
        "# Show Result Dimension\n",
        "x_pca = pca.transform(df_pca_scaled) \n",
        "x_pca.shape "
      ],
      "execution_count": 0,
      "outputs": []
    },
    {
      "cell_type": "markdown",
      "metadata": {
        "id": "JscmyNkEgWk7",
        "colab_type": "text"
      },
      "source": [
        "Visualizing Result"
      ]
    },
    {
      "cell_type": "code",
      "metadata": {
        "id": "s8CEOddQgaHM",
        "colab_type": "code",
        "colab": {}
      },
      "source": [
        "# Plot \n",
        "plt.scatter(x_pca[:, 0], x_pca[:, 1], c = cancer['target'], cmap ='plasma') \n",
        "\n",
        "# Labeling X and Y Axes \n",
        "plt.xlabel('First Principal Component') \n",
        "plt.ylabel('Second Principal Component')"
      ],
      "execution_count": 0,
      "outputs": []
    },
    {
      "cell_type": "code",
      "metadata": {
        "id": "IlFYap0MguLE",
        "colab_type": "code",
        "colab": {}
      },
      "source": [
        "# Plotting Heatmap\n",
        "df_comp = pd.DataFrame(pca.components_, columns = cancer['feature_names']) \n",
        "sns.heatmap(df_comp)"
      ],
      "execution_count": 0,
      "outputs": []
    }
  ]
}