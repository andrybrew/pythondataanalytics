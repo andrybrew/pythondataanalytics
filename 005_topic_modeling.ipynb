{
  "nbformat": 4,
  "nbformat_minor": 0,
  "metadata": {
    "colab": {
      "name": "005_topic_modeling",
      "provenance": [],
      "collapsed_sections": [],
      "include_colab_link": true
    },
    "kernelspec": {
      "name": "python3",
      "display_name": "Python 3"
    }
  },
  "cells": [
    {
      "cell_type": "markdown",
      "metadata": {
        "id": "view-in-github",
        "colab_type": "text"
      },
      "source": [
        "<a href=\"https://colab.research.google.com/github/andrybrew/pythondataanalytics/blob/master/005_topic_modeling.ipynb\" target=\"_parent\"><img src=\"https://colab.research.google.com/assets/colab-badge.svg\" alt=\"Open In Colab\"/></a>"
      ]
    },
    {
      "cell_type": "markdown",
      "metadata": {
        "id": "0NLG-NXwUsLy",
        "colab_type": "text"
      },
      "source": [
        "# Topic Modeling"
      ]
    },
    {
      "cell_type": "markdown",
      "metadata": {
        "id": "UiXWFeaQTGIL",
        "colab_type": "text"
      },
      "source": [
        "In machine learning and natural language processing, a topic model is a type of statistical model for discovering the abstract \"topics\" that occur in a collection of documents. Topic modeling is a frequently used text-mining tool for discovery of hidden semantic structures in a text body."
      ]
    },
    {
      "cell_type": "markdown",
      "metadata": {
        "id": "cijMDuoySDoM",
        "colab_type": "text"
      },
      "source": [
        "Install Library"
      ]
    },
    {
      "cell_type": "code",
      "metadata": {
        "id": "tmIYq54IUoOC",
        "colab_type": "code",
        "colab": {}
      },
      "source": [
        "# Install pyLDAvis\n",
        "! pip install pyLDAvis"
      ],
      "execution_count": 0,
      "outputs": []
    },
    {
      "cell_type": "markdown",
      "metadata": {
        "id": "ldosn41jSNtT",
        "colab_type": "text"
      },
      "source": [
        "Import Libraries and Modules"
      ]
    },
    {
      "cell_type": "code",
      "metadata": {
        "id": "ws5ZYF60QeZM",
        "colab_type": "code",
        "colab": {}
      },
      "source": [
        "# Import Libraries\n",
        "import nltk\n",
        "import os\n",
        "import numpy as np, pyLDAvis, pyLDAvis.sklearn; pyLDAvis.enable_notebook()\n",
        "\n",
        "# Import Modules\n",
        "from __future__ import print_function \n",
        "from tqdm import tqdm\n",
        "from sklearn.feature_extraction.text import CountVectorizer, TfidfVectorizer\n",
        "from sklearn.decomposition import LatentDirichletAllocation\n",
        "from matplotlib import pyplot as plt"
      ],
      "execution_count": 0,
      "outputs": []
    },
    {
      "cell_type": "markdown",
      "metadata": {
        "id": "qw9WH6QYSW87",
        "colab_type": "text"
      },
      "source": [
        "Import Library and Data from Github Directory"
      ]
    },
    {
      "cell_type": "code",
      "metadata": {
        "id": "XLaN9I_WC4gG",
        "colab_type": "code",
        "colab": {}
      },
      "source": [
        "# Clone Data from Github\n",
        "! git clone https://github.com/dianrdn/tm\n",
        "\n",
        "# Set Data Directory\n",
        "os.chdir('tm')"
      ],
      "execution_count": 0,
      "outputs": []
    },
    {
      "cell_type": "code",
      "metadata": {
        "id": "Xqlp92OFJaLB",
        "colab_type": "code",
        "colab": {}
      },
      "source": [
        "# Import Data\n",
        "nltk.download('stopwords')\n",
        "data_file = 'berita_batubara.csv'\n",
        "n_topics, Top_Topics, Top_Words = 4, 5, 5 # Depends on the purpose of analytics\n",
        "max_df, min_df = 0.75, 10 # Can be adjusted"
      ],
      "execution_count": 0,
      "outputs": []
    },
    {
      "cell_type": "code",
      "metadata": {
        "id": "r9dsyeFXRgo4",
        "colab_type": "code",
        "colab": {}
      },
      "source": [
        "# Import Library\n",
        "import MyLib as TS"
      ],
      "execution_count": 0,
      "outputs": []
    },
    {
      "cell_type": "markdown",
      "metadata": {
        "id": "TjCbkHCRShfw",
        "colab_type": "text"
      },
      "source": [
        "Topic Modeling"
      ]
    },
    {
      "cell_type": "code",
      "metadata": {
        "id": "cSzTfzevVKwx",
        "colab_type": "code",
        "colab": {}
      },
      "source": [
        "Tweets = TS.LoadTxt(data_file) \n",
        "print('Total loaded tweets = {0}'.format(len(Tweets)))\n",
        "print(Tweets[0])"
      ],
      "execution_count": 0,
      "outputs": []
    },
    {
      "cell_type": "code",
      "metadata": {
        "id": "QldB7hQkVMpx",
        "colab_type": "code",
        "colab": {}
      },
      "source": [
        "tf_vectorizer = CountVectorizer(strip_accents = 'unicode',stop_words = 'english', lowercase = True, token_pattern = r'\\b[a-zA-Z]{3,}\\b',max_df = max_df, min_df = min_df)\n",
        "dtm_tf = tf_vectorizer.fit_transform(Tweets)\n",
        "tf_terms = tf_vectorizer.get_feature_names()\n",
        "del Tweets\n",
        "print('Done Calculating VSM ... ', flush = True)"
      ],
      "execution_count": 0,
      "outputs": []
    },
    {
      "cell_type": "code",
      "metadata": {
        "id": "9X2g_uQnVPA4",
        "colab_type": "code",
        "colab": {}
      },
      "source": [
        "# LDA Topics\n",
        "lda_tf = LatentDirichletAllocation(n_components=n_topics, learning_method='online', random_state=0).fit(dtm_tf)\n",
        "print('Done LDA topics ... ', flush = True) "
      ],
      "execution_count": 0,
      "outputs": []
    },
    {
      "cell_type": "code",
      "metadata": {
        "id": "iK17H84BVPwt",
        "colab_type": "code",
        "colab": {}
      },
      "source": [
        "vsm_topics = lda_tf.transform(dtm_tf); doc_topic =  [a.argmax()+1 for a in tqdm(vsm_topics)] # topic of docs\n",
        "print('In total there are {0} major topics, distributed as follows'.format(len(set(doc_topic))))\n",
        "plt.hist(np.array(doc_topic), alpha=0.5); plt.show()\n",
        "print('Printing top {0} Topics, with top {1} Words:'.format(Top_Topics, Top_Words))\n",
        "TS.print_Topics(lda_tf, tf_terms, Top_Topics, Top_Words)"
      ],
      "execution_count": 0,
      "outputs": []
    },
    {
      "cell_type": "code",
      "metadata": {
        "id": "5H58tilGVR6o",
        "colab_type": "code",
        "colab": {}
      },
      "source": [
        "pyLDAvis.sklearn.prepare(lda_tf, dtm_tf, tf_vectorizer) # Interactively visualizing the Topics, please ignore the Warnings\n",
        "# Wait few minutes and then hover the Mouse over the Topics to Explore"
      ],
      "execution_count": 0,
      "outputs": []
    }
  ]
}